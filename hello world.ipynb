{
 "cells": [
  {
   "cell_type": "markdown",
   "id": "ba36010f-9e25-4faa-875f-af059488f006",
   "metadata": {},
   "source": [
    "# We will be creating a simple Quantum Program and running it on a QPU and then scale it for larger programs for utiliy"
   ]
  },
  {
   "cell_type": "markdown",
   "id": "581af0d5-bf01-49d1-8d86-0efd7029faf7",
   "metadata": {},
   "source": [
    "## Hello World example on a 2 quibit bell state"
   ]
  },
  {
   "cell_type": "code",
   "execution_count": 1,
   "id": "df057c34-e9b0-4fb0-a64d-403883452cab",
   "metadata": {},
   "outputs": [
    {
     "data": {
      "text/plain": [
       "'\\n1. Map the problem to circuits and operators (quantum native format)\\n2. Optimize the process(circuits and operators)\\n3. Execute it on a backend a quantum primitive function\\n4. Post process or analyze the result \\n'"
      ]
     },
     "execution_count": 1,
     "metadata": {},
     "output_type": "execute_result"
    }
   ],
   "source": [
    "# Quantum Computational workflows\n",
    "\"\"\"\n",
    "1. Map the problem to circuits and operators (quantum native format)\n",
    "2. Optimize the process(circuits and operators)\n",
    "3. Execute it on a backend a quantum primitive function\n",
    "4. Post process or analyze the result \n",
    "\"\"\""
   ]
  },
  {
   "cell_type": "markdown",
   "id": "8b21a94d-e252-4545-a5de-6e033cfc1133",
   "metadata": {},
   "source": [
    "# Step 1 Map the problem to circuits and operators\n"
   ]
  },
  {
   "cell_type": "code",
   "execution_count": 2,
   "id": "b6931cc2-f0ba-4334-9446-c0277cc75716",
   "metadata": {},
   "outputs": [
    {
     "data": {
      "image/png": "[encoded data removed]",
      "text/plain": [
       "<Figure size 287.294x200.667 with 1 Axes>"
      ]
     },
     "execution_count": 2,
     "metadata": {},
     "output_type": "execute_result"
    }
   ],
   "source": [
    "from qiskit import QuantumCircuit\n",
    "from qiskit.transpiler.preset_passmanagers import generate_preset_pass_manager\n",
    "from qiskit_ibm_runtime import EstimatorV2 as Estimator\n",
    "\n",
    "qc = QuantumCircuit(2) # this creates two quibits\n",
    "\n",
    "# Hardamard gate\n",
    "qc.h(0) # This makes quibit 0 in quantum superposition \n",
    "\n",
    "# Controlled not \n",
    "qc.cx(0, 1) # This causes both quibit 0 and 1 to be entagled and \n",
    "\n",
    "qc.draw('mpl')"
   ]
  },
  {
   "cell_type": "markdown",
   "id": "815d5310-4b2e-401d-b1b5-baff1014dd95",
   "metadata": {},
   "source": [
    "When working with quntum circuits you need to think of what data you want\n",
    "to be returned is it;\n",
    "1. A probability distribution for a set of quibits you wish to measure\n",
    "2. The expectation value of the observable\n",
    " "
   ]
  },
  {
   "cell_type": "code",
   "execution_count": 3,
   "id": "93315f5e-49ab-4bad-9ac0-5d108fbb7127",
   "metadata": {},
   "outputs": [
    {
     "data": {
      "text/plain": [
       "[SparsePauliOp(['IZ'],\n",
       "               coeffs=[1.+0.j]),\n",
       " SparsePauliOp(['IX'],\n",
       "               coeffs=[1.+0.j]),\n",
       " SparsePauliOp(['ZI'],\n",
       "               coeffs=[1.+0.j]),\n",
       " SparsePauliOp(['XI'],\n",
       "               coeffs=[1.+0.j]),\n",
       " SparsePauliOp(['ZZ'],\n",
       "               coeffs=[1.+0.j]),\n",
       " SparsePauliOp(['XX'],\n",
       "               coeffs=[1.+0.j])]"
      ]
     },
     "execution_count": 3,
     "metadata": {},
     "output_type": "execute_result"
    }
   ],
   "source": [
    "from qiskit.quantum_info import SparsePauliOp\n",
    "observable_label = ['IZ', 'IX', 'ZI', 'XI', 'ZZ', 'XX']\n",
    "observable = [SparsePauliOp(label) for label in observable_label]\n",
    "observable"
   ]
  },
  {
   "cell_type": "code",
   "execution_count": 9,
   "id": "741ea747-fd9a-4710-97d7-4562ea511ce6",
   "metadata": {},
   "outputs": [
    {
     "data": {
      "image/png": "[encoded data removed]",
      "text/plain": [
       "<Figure size 757.83x200.667 with 1 Axes>"
      ]
     },
     "execution_count": 9,
     "metadata": {},
     "output_type": "execute_result"
    }
   ],
   "source": [
    "# Step 2 optimize the process (circuits and operators)\n",
    "from qiskit_ibm_runtime import QiskitRuntimeService\n",
    "\n",
    "service = QiskitRuntimeService()\n",
    "\n",
    "backend = service.least_busy(simulator=False, operational=True)\n",
    "\n",
    "pm = generate_preset_pass_manager(backend=backend, optimization_level=1)\n",
    "\n",
    "isa_circquit = pm.run(qc)\n",
    "\n",
    "isa_circquit.draw('mpl', idle_wires=False)"
   ]
  },
  {
   "cell_type": "markdown",
   "id": "7fb4576d-06ca-47d8-a6e0-b5ad61c67a22",
   "metadata": {},
   "source": [
    "# Executing using quantum primitives"
   ]
  },
  {
   "cell_type": "code",
   "execution_count": null,
   "id": "a2accf0f-5232-4bce-8f50-56872a9ba567",
   "metadata": {},
   "outputs": [],
   "source": [
    "from qiskit_ibm_"
   ]
  }
 ],
 "metadata": {
  "kernelspec": {
   "display_name": "Python 3 (ipykernel)",
   "language": "python",
   "name": "python3"
  },
  "language_info": {
   "codemirror_mode": {
    "name": "ipython",
    "version": 3
   },
   "file_extension": ".py",
   "mimetype": "text/x-python",
   "name": "python",
   "nbconvert_exporter": "python",
   "pygments_lexer": "ipython3",
   "version": "3.11.7"
  },
  "widgets": {
   "application/vnd.jupyter.widget-state+json": {
    "state": {},
    "version_major": 2,
    "version_minor": 0
   }
  }
 },
 "nbformat": 4,
 "nbformat_minor": 5
}
